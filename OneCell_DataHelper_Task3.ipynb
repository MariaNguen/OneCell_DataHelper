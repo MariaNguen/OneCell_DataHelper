{
 "cells": [
  {
   "cell_type": "markdown",
   "id": "86ac006b",
   "metadata": {},
   "source": [
    "# 3. Работа с инструментами разметки\n",
    "Мы видим, что модель некоторые точки неверно детектирует на скачанных нами лицах и\n",
    "мы хотим отправить эти данные на разметку человеком. Для этого мы хотим в инструмент\n",
    "для разметки данных загрузить изображения и предсказания модели для последующего\n",
    "исправления людьми. Соответственно в этом задании нужно:\n",
    "- завести если нет аккаунт на сервисе [supervisely](https://supervise.ly/)\n",
    "- почитать документацию и разобраться с [SDK/Python-API для supervisely](https://sdk.docs.supervise.ly/)\n",
    "- написать код для загрузки данных в supervisely (в этом же jupyter-notebook)\n",
    "- загрузить 5-10 изображений и предсказаний модели в supervisely и вставить\n",
    "скриншот с работающего сервиса\n",
    "- замерьте скорость разметки и оцените время разметки с нуля и время доразметки\n",
    "результатов работы модели"
   ]
  },
  {
   "cell_type": "code",
   "execution_count": 1,
   "id": "efacd2ee",
   "metadata": {},
   "outputs": [],
   "source": [
    "import pandas as pd\n",
    "import matplotlib.pyplot as plt\n",
    "import numpy as np"
   ]
  },
  {
   "cell_type": "code",
   "execution_count": 2,
   "id": "b3e67804",
   "metadata": {},
   "outputs": [],
   "source": [
    "#загрузим изображения и координаты точек\n",
    "data_points = pd.read_pickle('data_points.pickle')"
   ]
  },
  {
   "cell_type": "code",
   "execution_count": 3,
   "id": "8a78a4be",
   "metadata": {},
   "outputs": [
    {
     "data": {
      "text/html": [
       "<div>\n",
       "<style scoped>\n",
       "    .dataframe tbody tr th:only-of-type {\n",
       "        vertical-align: middle;\n",
       "    }\n",
       "\n",
       "    .dataframe tbody tr th {\n",
       "        vertical-align: top;\n",
       "    }\n",
       "\n",
       "    .dataframe thead th {\n",
       "        text-align: right;\n",
       "    }\n",
       "</style>\n",
       "<table border=\"1\" class=\"dataframe\">\n",
       "  <thead>\n",
       "    <tr style=\"text-align: right;\">\n",
       "      <th></th>\n",
       "      <th>Image</th>\n",
       "      <th>GT</th>\n",
       "      <th>Detected</th>\n",
       "    </tr>\n",
       "  </thead>\n",
       "  <tbody>\n",
       "    <tr>\n",
       "      <th>0</th>\n",
       "      <td>[[238, 236, 237, 238, 240, 240, 239, 241, 241,...</td>\n",
       "      <td>[[66.0335639098, 39.0022736842], [30.227007518...</td>\n",
       "      <td>[[66.0, 39.0], [29.25, 36.75], [58.0, 40.0], [...</td>\n",
       "    </tr>\n",
       "    <tr>\n",
       "      <th>1</th>\n",
       "      <td>[[219, 215, 204, 196, 204, 211, 212, 200, 180,...</td>\n",
       "      <td>[[64.3329361702, 34.9700765957], [29.949276595...</td>\n",
       "      <td>[[63.75, 34.5], [30.0, 32.5], [56.0, 36.0], [7...</td>\n",
       "    </tr>\n",
       "    <tr>\n",
       "      <th>2</th>\n",
       "      <td>[[144, 142, 159, 180, 188, 188, 184, 180, 167,...</td>\n",
       "      <td>[[65.0570526316, 34.9096421053], [30.903789473...</td>\n",
       "      <td>[[64.5, 35.5], [30.5, 35.5], [58.0, 36.0], [70...</td>\n",
       "    </tr>\n",
       "    <tr>\n",
       "      <th>3</th>\n",
       "      <td>[[193, 192, 193, 194, 194, 194, 193, 192, 168,...</td>\n",
       "      <td>[[65.2257391304, 37.261773913], [32.0230956522...</td>\n",
       "      <td>[[65.75, 37.5], [31.25, 37.5], [59.0, 39.0], [...</td>\n",
       "    </tr>\n",
       "    <tr>\n",
       "      <th>4</th>\n",
       "      <td>[[147, 148, 160, 196, 215, 214, 216, 217, 219,...</td>\n",
       "      <td>[[66.7253006135, 39.6212613497], [32.244809816...</td>\n",
       "      <td>[[65.25, 38.5], [28.5, 37.5], [57.0, 39.0], [7...</td>\n",
       "    </tr>\n",
       "  </tbody>\n",
       "</table>\n",
       "</div>"
      ],
      "text/plain": [
       "                                               Image  \\\n",
       "0  [[238, 236, 237, 238, 240, 240, 239, 241, 241,...   \n",
       "1  [[219, 215, 204, 196, 204, 211, 212, 200, 180,...   \n",
       "2  [[144, 142, 159, 180, 188, 188, 184, 180, 167,...   \n",
       "3  [[193, 192, 193, 194, 194, 194, 193, 192, 168,...   \n",
       "4  [[147, 148, 160, 196, 215, 214, 216, 217, 219,...   \n",
       "\n",
       "                                                  GT  \\\n",
       "0  [[66.0335639098, 39.0022736842], [30.227007518...   \n",
       "1  [[64.3329361702, 34.9700765957], [29.949276595...   \n",
       "2  [[65.0570526316, 34.9096421053], [30.903789473...   \n",
       "3  [[65.2257391304, 37.261773913], [32.0230956522...   \n",
       "4  [[66.7253006135, 39.6212613497], [32.244809816...   \n",
       "\n",
       "                                            Detected  \n",
       "0  [[66.0, 39.0], [29.25, 36.75], [58.0, 40.0], [...  \n",
       "1  [[63.75, 34.5], [30.0, 32.5], [56.0, 36.0], [7...  \n",
       "2  [[64.5, 35.5], [30.5, 35.5], [58.0, 36.0], [70...  \n",
       "3  [[65.75, 37.5], [31.25, 37.5], [59.0, 39.0], [...  \n",
       "4  [[65.25, 38.5], [28.5, 37.5], [57.0, 39.0], [7...  "
      ]
     },
     "execution_count": 3,
     "metadata": {},
     "output_type": "execute_result"
    }
   ],
   "source": [
    "data_points.head()"
   ]
  },
  {
   "cell_type": "code",
   "execution_count": 4,
   "id": "f89b45d0",
   "metadata": {},
   "outputs": [
    {
     "data": {
      "image/png": "[encoded data removed]",
      "text/plain": [
       "<Figure size 432x288 with 1 Axes>"
      ]
     },
     "metadata": {
      "needs_background": "light"
     },
     "output_type": "display_data"
    }
   ],
   "source": [
    "#проверим, что все отрисовывается\n",
    "plt.imshow(data_points['Image'][7048], cmap='gray')\n",
    "for l in data_points['GT'][7048]:\n",
    "    plt.scatter(x=l[0], y=l[1], color='red', marker='*')\n",
    "for l in data_points['Detected'][7048]:\n",
    "    plt.scatter(x=l[0], y=l[1], color='blue', marker='.')\n",
    "plt.show()"
   ]
  },
  {
   "cell_type": "code",
   "execution_count": 5,
   "id": "a8ce4036",
   "metadata": {},
   "outputs": [],
   "source": [
    "import supervisely as sly"
   ]
  },
  {
   "cell_type": "code",
   "execution_count": 6,
   "id": "af139473",
   "metadata": {},
   "outputs": [],
   "source": [
    "api = sly.Api(server_address=\"https://app.supervise.ly\", token=\"i8FcErMdAHSIX06eWPlYqEF9p8j0SKoTnbJZiw35etqcV6EloZZVboBOJ2EP8nWGgsa90X6Yby4n9PiRhL6T3W3AhGesgEJ7g2pk3e9dsawcLeubbPUYS9iWXJv2Bi19\")"
   ]
  },
  {
   "cell_type": "code",
   "execution_count": 7,
   "id": "b55ee67d",
   "metadata": {},
   "outputs": [],
   "source": [
    "# create project and dataset\n",
    "project = api.project.create(workspace_id=85296, name=\"onecell_test\")\n",
    "dataset = api.dataset.create(project.id, \"test_dataset_pre_markup\")\n",
    "dataset_empty = api.dataset.create(project.id, \"test_dataset_empty\")"
   ]
  },
  {
   "cell_type": "markdown",
   "id": "c378e28e",
   "metadata": {},
   "source": [
    "Попробуем загрузить пять случайных документов с точностью детектирования, равной 0.\n",
    "- 7048   \n",
    "- 5618 \n",
    "- 5619 \n",
    "- 5620 \n",
    "- 4466"
   ]
  },
  {
   "cell_type": "code",
   "execution_count": 8,
   "id": "70a13255",
   "metadata": {},
   "outputs": [],
   "source": [
    "img_indices = [7048, 5618, 5619, 5620, 4466]"
   ]
  },
  {
   "cell_type": "code",
   "execution_count": 9,
   "id": "81eff3c5",
   "metadata": {},
   "outputs": [],
   "source": [
    "class_lec = sly.ObjClass('left_eye_center', sly.Point)\n",
    "class_rec = sly.ObjClass('right_eye_center', sly.Point)\n",
    "class_leic = sly.ObjClass('left_eye_inner_corner', sly.Point)\n",
    "class_leoc = sly.ObjClass('left_eye_outer_corner', sly.Point)\n",
    "class_reic = sly.ObjClass('right_eye_inner_corner', sly.Point)\n",
    "class_reoc = sly.ObjClass('right_eye_outer_corner', sly.Point)\n",
    "class_leie = sly.ObjClass('left_eyebrow_inner_end', sly.Point)\n",
    "class_leoe = sly.ObjClass('left_eyebrow_outer_end', sly.Point)\n",
    "class_reie = sly.ObjClass('right_eyebrow_inner_end', sly.Point)\n",
    "class_reoe = sly.ObjClass('right_eyebrow_outer_end', sly.Point)\n",
    "class_nt = sly.ObjClass('nose_tip', sly.Point)\n",
    "class_mlc = sly.ObjClass('mouth_left_corner', sly.Point)\n",
    "class_mrc = sly.ObjClass('mouth_right_corner', sly.Point)\n",
    "class_mctl = sly.ObjClass('mouth_center_top_lip', sly.Point)\n",
    "class_mcbl = sly.ObjClass('mouth_center_bottom_lip', sly.Point)\n",
    "classes = sly.ObjClassCollection([class_lec, class_rec, class_leic, class_leoc, class_reic, class_reoc, class_leie, class_leoe,\n",
    "                                 class_reie, class_reoe, class_nt, class_mlc, class_mrc, class_mctl, class_mcbl])\n",
    "\n",
    "meta = sly.ProjectMeta(obj_classes=classes)\n",
    "api.project.update_meta(project.id, meta)"
   ]
  },
  {
   "cell_type": "code",
   "execution_count": 10,
   "id": "36e956c4",
   "metadata": {},
   "outputs": [],
   "source": [
    "# загружаем изображения без аннотаций в датасет \"test_dataset_empty\"\n",
    "img_names = ['7048.jpg', '5618.jpg', '5619.jpg', '5620.jpg', '4466.jpg']\n",
    "img_nps = list(data_points.loc[img_indices, 'Image'])\n",
    "\n",
    "img_infos = api.image.upload_nps(dataset_empty.id, names=img_names, imgs=img_nps)"
   ]
  },
  {
   "cell_type": "code",
   "execution_count": 11,
   "id": "d6294e3c",
   "metadata": {},
   "outputs": [],
   "source": [
    "# загрузка данных с аннотациями в датасет \"test_dataset_pre_markup\"\n",
    "for i in img_indices:\n",
    "    img_np = data_points.loc[i, 'Image']\n",
    "    img_name = str(i) + '.jpg'\n",
    "    img_info = api.image.upload_np(dataset.id, name=img_name, img=img_np)\n",
    "    \n",
    "    ann = sly.Annotation((96, 96))\n",
    "\n",
    "    label_lec = sly.Label(sly.Point(data_points.loc[i, 'Detected'][0][1], data_points.loc[i, 'Detected'][0][0]), class_lec)\n",
    "    ann = ann.add_label(label_lec)\n",
    "    \n",
    "    label_rec = sly.Label(sly.Point(data_points.loc[i, 'Detected'][1][1], data_points.loc[i, 'Detected'][1][0]), class_rec)\n",
    "    ann = ann.add_label(label_rec)\n",
    "    \n",
    "    label_leic = sly.Label(sly.Point(data_points.loc[i, 'Detected'][2][1], data_points.loc[i, 'Detected'][2][0]), class_leic)\n",
    "    ann = ann.add_label(label_leic)\n",
    "    \n",
    "    label_leoc = sly.Label(sly.Point(data_points.loc[i, 'Detected'][3][1], data_points.loc[i, 'Detected'][3][0]), class_leoc)\n",
    "    ann = ann.add_label(label_leoc)\n",
    "    \n",
    "    label_reic = sly.Label(sly.Point(data_points.loc[i, 'Detected'][4][1], data_points.loc[i, 'Detected'][4][0]), class_reic)\n",
    "    ann = ann.add_label(label_reic)\n",
    "    \n",
    "    label_reoc = sly.Label(sly.Point(data_points.loc[i, 'Detected'][5][1], data_points.loc[i, 'Detected'][5][0]), class_reoc)\n",
    "    ann = ann.add_label(label_reoc)\n",
    "    \n",
    "    label_leie = sly.Label(sly.Point(data_points.loc[i, 'Detected'][6][1], data_points.loc[i, 'Detected'][6][0]), class_leie)\n",
    "    ann = ann.add_label(label_leie)\n",
    "    \n",
    "    label_leoe = sly.Label(sly.Point(data_points.loc[i, 'Detected'][7][1], data_points.loc[i, 'Detected'][7][0]), class_leoe)\n",
    "    ann = ann.add_label(label_leoe)\n",
    "    \n",
    "    label_reie = sly.Label(sly.Point(data_points.loc[i, 'Detected'][8][1], data_points.loc[i, 'Detected'][8][0]), class_reie)\n",
    "    ann = ann.add_label(label_reie)\n",
    "    \n",
    "    label_reoe = sly.Label(sly.Point(data_points.loc[i, 'Detected'][9][1], data_points.loc[i, 'Detected'][9][0]), class_reoe)\n",
    "    ann = ann.add_label(label_reoe)\n",
    "    \n",
    "    label_nt = sly.Label(sly.Point(data_points.loc[i, 'Detected'][10][1], data_points.loc[i, 'Detected'][10][0]), class_nt)\n",
    "    ann = ann.add_label(label_nt)\n",
    "    \n",
    "    label_mlc = sly.Label(sly.Point(data_points.loc[i, 'Detected'][11][1], data_points.loc[i, 'Detected'][11][0]), class_mlc)\n",
    "    ann = ann.add_label(label_mlc)\n",
    "    \n",
    "    label_mrc = sly.Label(sly.Point(data_points.loc[i, 'Detected'][12][1], data_points.loc[i, 'Detected'][12][0]), class_mrc)\n",
    "    ann = ann.add_label(label_mrc)\n",
    "    \n",
    "    label_mctl = sly.Label(sly.Point(data_points.loc[i, 'Detected'][13][1], data_points.loc[i, 'Detected'][13][0]), class_mctl)\n",
    "    ann = ann.add_label(label_mctl)\n",
    "    \n",
    "    label_mcbl = sly.Label(sly.Point(data_points.loc[i, 'Detected'][14][1], data_points.loc[i, 'Detected'][14][0]), class_mcbl)\n",
    "    ann = ann.add_label(label_mcbl)\n",
    "    \n",
    "    upl_ann = api.annotation.upload_ann(img_info.id, ann)"
   ]
  },
  {
   "attachments": {},
   "cell_type": "markdown",
   "id": "f3e727eb",
   "metadata": {},
   "source": [
    "Скриншоты работающегго сервиса:\n",
    "1. Workplace\n",
    "![workplace](supervisely_1.png)\n",
    "\n",
    "2. Проект\n",
    "![project](supervisely_2.png)\n",
    "\n",
    "3. Датасеты \n",
    "![datasets](supervisely_3.png)\n",
    "\n",
    "4. Изображение с предразметкой\n",
    "![image_with_premarkup](supervisely_4.png)"
   ]
  },
  {
   "cell_type": "markdown",
   "id": "124fba8f",
   "metadata": {},
   "source": [
    "Разметка пяти предразмеченных изображений заняла 4 минуты.<br>\n",
    "Разметка тех же пяти изображений с нуля заняла 7 минут."
   ]
  }
 ],
 "metadata": {
  "kernelspec": {
   "display_name": "Python 3 (ipykernel)",
   "language": "python",
   "name": "python3"
  },
  "language_info": {
   "codemirror_mode": {
    "name": "ipython",
    "version": 3
   },
   "file_extension": ".py",
   "mimetype": "text/x-python",
   "name": "python",
   "nbconvert_exporter": "python",
   "pygments_lexer": "ipython3",
   "version": "3.9.12"
  },
  "toc": {
   "base_numbering": 1,
   "nav_menu": {},
   "number_sections": true,
   "sideBar": true,
   "skip_h1_title": true,
   "title_cell": "Table of Contents",
   "title_sidebar": "Contents",
   "toc_cell": true,
   "toc_position": {},
   "toc_section_display": true,
   "toc_window_display": false
  }
 },
 "nbformat": 4,
 "nbformat_minor": 5
}
